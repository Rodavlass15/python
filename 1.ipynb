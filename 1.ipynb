{
 "cells": [
  {
   "cell_type": "code",
   "execution_count": 1,
   "id": "00f2d1f1",
   "metadata": {},
   "outputs": [
    {
     "name": "stdout",
     "output_type": "stream",
     "text": [
      "hola mundo\n"
     ]
    }
   ],
   "source": [
    "print(\"hola mundo\")"
   ]
  },
  {
   "cell_type": "code",
   "execution_count": 2,
   "id": "760b63a6",
   "metadata": {},
   "outputs": [
    {
     "name": "stdout",
     "output_type": "stream",
     "text": [
      "6\n"
     ]
    }
   ],
   "source": [
    "resultado=3+3\n",
    "print(resultado)"
   ]
  },
  {
   "cell_type": "code",
   "execution_count": 3,
   "id": "fd63efa7",
   "metadata": {},
   "outputs": [
    {
     "data": {
      "text/plain": [
       "8"
      ]
     },
     "execution_count": 3,
     "metadata": {},
     "output_type": "execute_result"
    }
   ],
   "source": [
    "2 ** 3"
   ]
  },
  {
   "cell_type": "code",
   "execution_count": 4,
   "id": "8579e0be",
   "metadata": {},
   "outputs": [
    {
     "data": {
      "text/plain": [
       "1"
      ]
     },
     "execution_count": 4,
     "metadata": {},
     "output_type": "execute_result"
    }
   ],
   "source": [
    "5%2"
   ]
  },
  {
   "cell_type": "code",
   "execution_count": 5,
   "id": "b9115fde",
   "metadata": {},
   "outputs": [
    {
     "name": "stdout",
     "output_type": "stream",
     "text": [
      "50.24\n"
     ]
    }
   ],
   "source": [
    "r = 8\n",
    "pi =3.14\n",
    "perimetro = 2 * pi * r\n",
    "print(perimetro)"
   ]
  },
  {
   "cell_type": "code",
   "execution_count": 6,
   "id": "03b8bc2a",
   "metadata": {},
   "outputs": [
    {
     "data": {
      "text/plain": [
       "1"
      ]
     },
     "execution_count": 6,
     "metadata": {},
     "output_type": "execute_result"
    }
   ],
   "source": [
    "min(5,6,7,8,9,1)"
   ]
  },
  {
   "cell_type": "code",
   "execution_count": 7,
   "id": "8109dace",
   "metadata": {},
   "outputs": [
    {
     "ename": "NameError",
     "evalue": "name 'avg' is not defined",
     "output_type": "error",
     "traceback": [
      "\u001b[1;31m---------------------------------------------------------------------------\u001b[0m",
      "\u001b[1;31mNameError\u001b[0m                                 Traceback (most recent call last)",
      "Cell \u001b[1;32mIn[7], line 1\u001b[0m\n\u001b[1;32m----> 1\u001b[0m \u001b[43mavg\u001b[49m(\u001b[38;5;241m5\u001b[39m,\u001b[38;5;241m6\u001b[39m,\u001b[38;5;241m7\u001b[39m,\u001b[38;5;241m8\u001b[39m,\u001b[38;5;241m9\u001b[39m,\u001b[38;5;241m43\u001b[39m,\u001b[38;5;241m2\u001b[39m,\u001b[38;5;241m3\u001b[39m,\u001b[38;5;241m3\u001b[39m,)\n",
      "\u001b[1;31mNameError\u001b[0m: name 'avg' is not defined"
     ]
    }
   ],
   "source": [
    "avg(5,6,7,8,9,43,2,3,3,)"
   ]
  },
  {
   "cell_type": "code",
   "execution_count": 8,
   "id": "664f9e4e",
   "metadata": {},
   "outputs": [
    {
     "ename": "NameError",
     "evalue": "name 'med' is not defined",
     "output_type": "error",
     "traceback": [
      "\u001b[1;31m---------------------------------------------------------------------------\u001b[0m",
      "\u001b[1;31mNameError\u001b[0m                                 Traceback (most recent call last)",
      "Cell \u001b[1;32mIn[8], line 1\u001b[0m\n\u001b[1;32m----> 1\u001b[0m \u001b[43mmed\u001b[49m(\u001b[38;5;241m4\u001b[39m,\u001b[38;5;241m5\u001b[39m,\u001b[38;5;241m6\u001b[39m,\u001b[38;5;241m7\u001b[39m,\u001b[38;5;241m8\u001b[39m,\u001b[38;5;241m9\u001b[39m,\u001b[38;5;241m4\u001b[39m,\u001b[38;5;241m3\u001b[39m)\n",
      "\u001b[1;31mNameError\u001b[0m: name 'med' is not defined"
     ]
    }
   ],
   "source": [
    "med(4,5,6,7,8,9,4,3)"
   ]
  },
  {
   "cell_type": "code",
   "execution_count": 9,
   "id": "4d171f89",
   "metadata": {},
   "outputs": [
    {
     "data": {
      "text/plain": [
       "28945.0"
      ]
     },
     "execution_count": 9,
     "metadata": {},
     "output_type": "execute_result"
    }
   ],
   "source": [
    "sueldo_bruto = 35000\n",
    "retenciones = 17.3\n",
    "neto = sueldo_bruto -(sueldo_bruto * retenciones /100)\n",
    "neto"
   ]
  },
  {
   "cell_type": "code",
   "execution_count": 10,
   "id": "e52889a3",
   "metadata": {},
   "outputs": [
    {
     "data": {
      "text/plain": [
       "float"
      ]
     },
     "execution_count": 10,
     "metadata": {},
     "output_type": "execute_result"
    }
   ],
   "source": [
    "type(neto)"
   ]
  },
  {
   "cell_type": "code",
   "execution_count": 11,
   "id": "ef1e6b4b",
   "metadata": {},
   "outputs": [
    {
     "data": {
      "text/plain": [
       "6"
      ]
     },
     "execution_count": 11,
     "metadata": {},
     "output_type": "execute_result"
    }
   ],
   "source": [
    "round(5.49999999999999999999999999999999999999999999999999999999999999999)"
   ]
  },
  {
   "cell_type": "code",
   "execution_count": 12,
   "id": "dfdd0be0",
   "metadata": {},
   "outputs": [
    {
     "data": {
      "text/plain": [
       "13"
      ]
     },
     "execution_count": 12,
     "metadata": {},
     "output_type": "execute_result"
    }
   ],
   "source": [
    "abs(7-20)"
   ]
  },
  {
   "cell_type": "code",
   "execution_count": 13,
   "id": "6daf2956",
   "metadata": {},
   "outputs": [
    {
     "data": {
      "text/plain": [
       "18"
      ]
     },
     "execution_count": 13,
     "metadata": {},
     "output_type": "execute_result"
    }
   ],
   "source": [
    "int(18.6)"
   ]
  },
  {
   "cell_type": "code",
   "execution_count": 14,
   "id": "6b596351",
   "metadata": {},
   "outputs": [
    {
     "data": {
      "text/plain": [
       "5.0"
      ]
     },
     "execution_count": 14,
     "metadata": {},
     "output_type": "execute_result"
    }
   ],
   "source": [
    "float(5)"
   ]
  },
  {
   "cell_type": "code",
   "execution_count": 15,
   "id": "de2c2693",
   "metadata": {},
   "outputs": [
    {
     "data": {
      "text/plain": [
       "35.6"
      ]
     },
     "execution_count": 15,
     "metadata": {},
     "output_type": "execute_result"
    }
   ],
   "source": [
    "float(10+25.6)"
   ]
  },
  {
   "cell_type": "code",
   "execution_count": 16,
   "id": "ed6e4cdd",
   "metadata": {},
   "outputs": [
    {
     "data": {
      "text/plain": [
       "(2+0j)"
      ]
     },
     "execution_count": 16,
     "metadata": {},
     "output_type": "execute_result"
    }
   ],
   "source": [
    "complex(2)"
   ]
  },
  {
   "cell_type": "code",
   "execution_count": 17,
   "id": "510e6a7f",
   "metadata": {},
   "outputs": [
    {
     "data": {
      "text/plain": [
       "'1234567890'"
      ]
     },
     "execution_count": 17,
     "metadata": {},
     "output_type": "execute_result"
    }
   ],
   "source": [
    "str(1234567890)"
   ]
  },
  {
   "cell_type": "code",
   "execution_count": 18,
   "id": "4b56d482",
   "metadata": {},
   "outputs": [
    {
     "ename": "NameError",
     "evalue": "name 'true' is not defined",
     "output_type": "error",
     "traceback": [
      "\u001b[1;31m---------------------------------------------------------------------------\u001b[0m",
      "\u001b[1;31mNameError\u001b[0m                                 Traceback (most recent call last)",
      "Cell \u001b[1;32mIn[18], line 1\u001b[0m\n\u001b[1;32m----> 1\u001b[0m a \u001b[38;5;241m=\u001b[39m \u001b[43mtrue\u001b[49m\n\u001b[0;32m      2\u001b[0m a \u001b[38;5;129;01mand\u001b[39;00m false\n",
      "\u001b[1;31mNameError\u001b[0m: name 'true' is not defined"
     ]
    }
   ],
   "source": [
    "a = true\n",
    "a and false"
   ]
  },
  {
   "cell_type": "code",
   "execution_count": 19,
   "id": "1efa2eb8",
   "metadata": {},
   "outputs": [
    {
     "ename": "NameError",
     "evalue": "name 'true' is not defined",
     "output_type": "error",
     "traceback": [
      "\u001b[1;31m---------------------------------------------------------------------------\u001b[0m",
      "\u001b[1;31mNameError\u001b[0m                                 Traceback (most recent call last)",
      "Cell \u001b[1;32mIn[19], line 1\u001b[0m\n\u001b[1;32m----> 1\u001b[0m a \u001b[38;5;241m=\u001b[39m \u001b[43mtrue\u001b[49m\n\u001b[0;32m      2\u001b[0m a \u001b[38;5;129;01mand\u001b[39;00m false\n",
      "\u001b[1;31mNameError\u001b[0m: name 'true' is not defined"
     ]
    }
   ],
   "source": [
    "a = true\n",
    "a and false"
   ]
  },
  {
   "cell_type": "code",
   "execution_count": 1,
   "id": "707d92fd",
   "metadata": {},
   "outputs": [
    {
     "data": {
      "text/plain": [
       "False"
      ]
     },
     "execution_count": 1,
     "metadata": {},
     "output_type": "execute_result"
    }
   ],
   "source": [
    "b = 'ANNA'\n",
    "a = 'ana'\n",
    "a == b"
   ]
  },
  {
   "cell_type": "code",
   "execution_count": 2,
   "id": "b2eb2b0e",
   "metadata": {},
   "outputs": [],
   "source": [
    "b = \"Me he enamorado de + a\""
   ]
  },
  {
   "cell_type": "code",
   "execution_count": null,
   "id": "225fa0bf",
   "metadata": {},
   "outputs": [],
   "source": []
  },
  {
   "cell_type": "code",
   "execution_count": 3,
   "id": "d8124664",
   "metadata": {},
   "outputs": [
    {
     "data": {
      "text/plain": [
       "'Me he enamorado de + a'"
      ]
     },
     "execution_count": 3,
     "metadata": {},
     "output_type": "execute_result"
    }
   ],
   "source": [
    "b = \"Me he enamorado de + a\"\n",
    "b"
   ]
  },
  {
   "cell_type": "code",
   "execution_count": 4,
   "id": "5ae22f76",
   "metadata": {},
   "outputs": [
    {
     "data": {
      "text/plain": [
       "'Me he enamorado de + a'"
      ]
     },
     "execution_count": 4,
     "metadata": {},
     "output_type": "execute_result"
    }
   ],
   "source": [
    "b = 'ANNA'\n",
    "a = 'ana'\n",
    "a == b\n",
    "b = \"Me he enamorado de + a\"\n",
    "b"
   ]
  },
  {
   "cell_type": "code",
   "execution_count": 5,
   "id": "aa3d598a",
   "metadata": {},
   "outputs": [
    {
     "data": {
      "text/plain": [
       "'suma de productos es9'"
      ]
     },
     "execution_count": 5,
     "metadata": {},
     "output_type": "execute_result"
    }
   ],
   "source": [
    "resultado = 9\n",
    "texto = 'suma de productos es' + str(resultado)\n",
    "texto"
   ]
  },
  {
   "cell_type": "code",
   "execution_count": null,
   "id": "cfca7807",
   "metadata": {},
   "outputs": [],
   "source": []
  },
  {
   "cell_type": "code",
   "execution_count": 6,
   "id": "addc4b73",
   "metadata": {},
   "outputs": [
    {
     "data": {
      "text/plain": [
       "False"
      ]
     },
     "execution_count": 6,
     "metadata": {},
     "output_type": "execute_result"
    }
   ],
   "source": [
    "a < b"
   ]
  },
  {
   "cell_type": "code",
   "execution_count": 7,
   "id": "f63e66c9",
   "metadata": {},
   "outputs": [
    {
     "data": {
      "text/plain": [
       "False"
      ]
     },
     "execution_count": 7,
     "metadata": {},
     "output_type": "execute_result"
    }
   ],
   "source": [
    "a < b"
   ]
  },
  {
   "cell_type": "code",
   "execution_count": 8,
   "id": "8fc2d121",
   "metadata": {},
   "outputs": [
    {
     "data": {
      "text/plain": [
       "5"
      ]
     },
     "execution_count": 8,
     "metadata": {},
     "output_type": "execute_result"
    }
   ],
   "source": [
    "a = 'salva'\n",
    "len(a)"
   ]
  },
  {
   "cell_type": "code",
   "execution_count": 9,
   "id": "054388bc",
   "metadata": {},
   "outputs": [
    {
     "data": {
      "text/plain": [
       "' las \"comillas\" son caracteres especiales'"
      ]
     },
     "execution_count": 9,
     "metadata": {},
     "output_type": "execute_result"
    }
   ],
   "source": [
    "especial = \" las \\\"comillas\\\" son caracteres especiales\"\n",
    "especial"
   ]
  },
  {
   "cell_type": "code",
   "execution_count": 10,
   "id": "4356e046",
   "metadata": {},
   "outputs": [
    {
     "name": "stdout",
     "output_type": "stream",
     "text": [
      " Hay otros caracteres especiales como el salto de la linea (\\n).\n",
      "sirve para representar el fin de la linea en ficheros.\n"
     ]
    }
   ],
   "source": [
    "especial = \" Hay otros caracteres especiales como el salto de la linea (\\\\n).\\nsirve para representar el fin de la linea en ficheros.\"\n",
    "print(especial)"
   ]
  },
  {
   "cell_type": "code",
   "execution_count": 11,
   "id": "0ee149fb",
   "metadata": {},
   "outputs": [
    {
     "name": "stdout",
     "output_type": "stream",
     "text": [
      "' hay otros caracteres'\n"
     ]
    }
   ],
   "source": [
    "especial = \"' hay otros caracteres'\"\n",
    "print(especial)"
   ]
  },
  {
   "cell_type": "code",
   "execution_count": 12,
   "id": "8be6da03",
   "metadata": {},
   "outputs": [
    {
     "data": {
      "text/plain": [
       "'Cambio : 1 dolar som 1 euros'"
      ]
     },
     "execution_count": 12,
     "metadata": {},
     "output_type": "execute_result"
    }
   ],
   "source": [
    "texto = \"Cambio : %d %s som %.f %s\"\n",
    "texto % (1, \"dolar\", 0.9266666666666666666666666, \"euros\")"
   ]
  },
  {
   "cell_type": "code",
   "execution_count": 13,
   "id": "73fd2ab2",
   "metadata": {},
   "outputs": [
    {
     "ename": "SyntaxError",
     "evalue": "can't use starred expression here (1473509443.py, line 3)",
     "output_type": "error",
     "traceback": [
      "\u001b[1;36m  Cell \u001b[1;32mIn[13], line 3\u001b[1;36m\u001b[0m\n\u001b[1;33m    area = * radio**2\u001b[0m\n\u001b[1;37m           ^\u001b[0m\n\u001b[1;31mSyntaxError\u001b[0m\u001b[1;31m:\u001b[0m can't use starred expression here\n"
     ]
    }
   ],
   "source": [
    "radio = 4.323343\n",
    "pi = 3.1416\n",
    "area = * radio**2\n",
    "print ('El area del un circulo de radio %.3f es %.5f' %(radio,area))"
   ]
  },
  {
   "cell_type": "code",
   "execution_count": 14,
   "id": "4ae7d3f3",
   "metadata": {},
   "outputs": [
    {
     "name": "stdout",
     "output_type": "stream",
     "text": [
      "El area del un circulo de radio 4.323 es 58.72057\n"
     ]
    }
   ],
   "source": [
    "radio = 4.323343\n",
    "pi = 3.1416\n",
    "area = pi* radio**2\n",
    "print ('El area del un circulo de radio %.3f es %.5f' %(radio,area))"
   ]
  },
  {
   "cell_type": "code",
   "execution_count": 15,
   "id": "00e42250",
   "metadata": {},
   "outputs": [],
   "source": [
    "def suma_tres(x,y,z):\n",
    "    m1 = x + y\n",
    "    m2 = m1 + z\n",
    "    return m2"
   ]
  },
  {
   "cell_type": "code",
   "execution_count": 16,
   "id": "dff2bb2c",
   "metadata": {},
   "outputs": [
    {
     "data": {
      "text/plain": [
       "11"
      ]
     },
     "execution_count": 16,
     "metadata": {},
     "output_type": "execute_result"
    }
   ],
   "source": [
    "def suma_tres(x,y,z):\n",
    "    m1 = x + y\n",
    "    m2 = m1 + z\n",
    "    return m2\n",
    "suma_tres(1,2,8)"
   ]
  },
  {
   "cell_type": "code",
   "execution_count": 17,
   "id": "e7bbdb2d",
   "metadata": {},
   "outputs": [
    {
     "data": {
      "text/plain": [
       "11"
      ]
     },
     "execution_count": 17,
     "metadata": {},
     "output_type": "execute_result"
    }
   ],
   "source": [
    "def suma_tres(x,y,z):\n",
    "    m1 = x + y\n",
    "    m2 = m1 + z\n",
    "    return m2\n",
    "suma_tres(1,2,8)\n",
    "a = 1\n",
    "b = 8\n",
    "resultado = suma_tres(a,2,b)\n",
    "resultado"
   ]
  },
  {
   "cell_type": "code",
   "execution_count": 1,
   "id": "440ba339",
   "metadata": {},
   "outputs": [],
   "source": [
    "def suma_tres(x,y,z):\n",
    "    m1 = x + y\n",
    "    m2 = m1 + z\n",
    "suma_tres(1,2,8)\n",
    "a = 1\n",
    "b = 8\n",
    "resultado = suma_tres(a,2,b)\n",
    "resultado"
   ]
  },
  {
   "cell_type": "code",
   "execution_count": 2,
   "id": "4c0eb406",
   "metadata": {},
   "outputs": [
    {
     "ename": "TypeError",
     "evalue": "can only concatenate str (not \"tuple\") to str",
     "output_type": "error",
     "traceback": [
      "\u001b[1;31m---------------------------------------------------------------------------\u001b[0m",
      "\u001b[1;31mTypeError\u001b[0m                                 Traceback (most recent call last)",
      "Cell \u001b[1;32mIn[2], line 2\u001b[0m\n\u001b[0;32m      1\u001b[0m t \u001b[38;5;241m=\u001b[39m(\u001b[38;5;241m4\u001b[39m,\u001b[38;5;124m\"\u001b[39m\u001b[38;5;124mHola\u001b[39m\u001b[38;5;124m\"\u001b[39m, \u001b[38;5;241m6.0\u001b[39m,\u001b[38;5;241m99\u001b[39m)\n\u001b[1;32m----> 2\u001b[0m \u001b[38;5;28mprint\u001b[39m(\u001b[38;5;124;43m\"\u001b[39;49m\u001b[38;5;124;43mTupla:\u001b[39;49m\u001b[38;5;124;43m\"\u001b[39;49m\u001b[43m \u001b[49m\u001b[38;5;241;43m+\u001b[39;49m\u001b[43m \u001b[49m\u001b[43mt\u001b[49m)\n",
      "\u001b[1;31mTypeError\u001b[0m: can only concatenate str (not \"tuple\") to str"
     ]
    }
   ],
   "source": [
    "t =(4,\"Hola\", 6.0,99)\n",
    "print(\"Tupla:\" + t)"
   ]
  },
  {
   "cell_type": "code",
   "execution_count": 3,
   "id": "19d89ac7",
   "metadata": {},
   "outputs": [
    {
     "name": "stdout",
     "output_type": "stream",
     "text": [
      "Tupla: (4, 'Hola', 6.0, 99)\n"
     ]
    }
   ],
   "source": [
    "t =(4,\"Hola\", 6.0,99)\n",
    "print(\"Tupla:\" , t)"
   ]
  },
  {
   "cell_type": "code",
   "execution_count": 4,
   "id": "5b1e2b0f",
   "metadata": {},
   "outputs": [
    {
     "ename": "SyntaxError",
     "evalue": "closing parenthesis ']' does not match opening parenthesis '(' (2363089331.py, line 1)",
     "output_type": "error",
     "traceback": [
      "\u001b[1;36m  Cell \u001b[1;32mIn[4], line 1\u001b[1;36m\u001b[0m\n\u001b[1;33m    r = range(-5,5]\u001b[0m\n\u001b[1;37m                  ^\u001b[0m\n\u001b[1;31mSyntaxError\u001b[0m\u001b[1;31m:\u001b[0m closing parenthesis ']' does not match opening parenthesis '('\n"
     ]
    }
   ],
   "source": [
    "r = range(-5,5]\n",
    "          list(r)"
   ]
  },
  {
   "cell_type": "code",
   "execution_count": 5,
   "id": "71a3e778",
   "metadata": {},
   "outputs": [
    {
     "ename": "SyntaxError",
     "evalue": "closing parenthesis ']' does not match opening parenthesis '(' (43827336.py, line 1)",
     "output_type": "error",
     "traceback": [
      "\u001b[1;36m  Cell \u001b[1;32mIn[5], line 1\u001b[1;36m\u001b[0m\n\u001b[1;33m    r = range(-5,5]\u001b[0m\n\u001b[1;37m                  ^\u001b[0m\n\u001b[1;31mSyntaxError\u001b[0m\u001b[1;31m:\u001b[0m closing parenthesis ']' does not match opening parenthesis '('\n"
     ]
    }
   ],
   "source": [
    "r = range(-5,5]\n",
    "list(r)"
   ]
  },
  {
   "cell_type": "code",
   "execution_count": 6,
   "id": "1c992cf7",
   "metadata": {},
   "outputs": [
    {
     "data": {
      "text/plain": [
       "[-5, -4, -3, -2, -1, 0, 1, 2, 3, 4]"
      ]
     },
     "execution_count": 6,
     "metadata": {},
     "output_type": "execute_result"
    }
   ],
   "source": [
    "r = range(-5,5)\n",
    "list(r)"
   ]
  },
  {
   "cell_type": "code",
   "execution_count": 7,
   "id": "fc5704b9",
   "metadata": {},
   "outputs": [
    {
     "data": {
      "text/plain": [
       "(1, 2, 3, 4, 5)"
      ]
     },
     "execution_count": 7,
     "metadata": {},
     "output_type": "execute_result"
    }
   ],
   "source": [
    "laborales = (1,2,3,4,5)\n",
    "laborales"
   ]
  },
  {
   "cell_type": "code",
   "execution_count": 8,
   "id": "36fb223d",
   "metadata": {},
   "outputs": [
    {
     "ename": "TypeError",
     "evalue": "'tuple' object is not callable",
     "output_type": "error",
     "traceback": [
      "\u001b[1;31m---------------------------------------------------------------------------\u001b[0m",
      "\u001b[1;31mTypeError\u001b[0m                                 Traceback (most recent call last)",
      "Cell \u001b[1;32mIn[8], line 1\u001b[0m\n\u001b[1;32m----> 1\u001b[0m \u001b[43mlaborales\u001b[49m\u001b[43m(\u001b[49m\u001b[38;5;241;43m1\u001b[39;49m\u001b[43m,\u001b[49m\u001b[38;5;241;43m2\u001b[39;49m\u001b[43m,\u001b[49m\u001b[38;5;241;43m3\u001b[39;49m\u001b[43m,\u001b[49m\u001b[38;5;241;43m4\u001b[39;49m\u001b[43m,\u001b[49m\u001b[38;5;241;43m5\u001b[39;49m\u001b[43m)\u001b[49m\n\u001b[0;32m      2\u001b[0m lunes,martes,miercoles,jueves,viernes \u001b[38;5;241m=\u001b[39m laborales\n\u001b[0;32m      3\u001b[0m martes\n",
      "\u001b[1;31mTypeError\u001b[0m: 'tuple' object is not callable"
     ]
    }
   ],
   "source": [
    "laborales(1,2,3,4,5)\n",
    "lunes,martes,miercoles,jueves,viernes = laborales\n",
    "martes"
   ]
  },
  {
   "cell_type": "code",
   "execution_count": 9,
   "id": "1400003c",
   "metadata": {},
   "outputs": [
    {
     "ename": "TypeError",
     "evalue": "'tuple' object is not callable",
     "output_type": "error",
     "traceback": [
      "\u001b[1;31m---------------------------------------------------------------------------\u001b[0m",
      "\u001b[1;31mTypeError\u001b[0m                                 Traceback (most recent call last)",
      "Cell \u001b[1;32mIn[9], line 1\u001b[0m\n\u001b[1;32m----> 1\u001b[0m \u001b[43mlaborales\u001b[49m\u001b[43m(\u001b[49m\u001b[38;5;241;43m1\u001b[39;49m\u001b[43m,\u001b[49m\u001b[43m \u001b[49m\u001b[38;5;241;43m2\u001b[39;49m\u001b[43m \u001b[49m\u001b[43m,\u001b[49m\u001b[43m \u001b[49m\u001b[38;5;241;43m3\u001b[39;49m\u001b[43m,\u001b[49m\u001b[43m \u001b[49m\u001b[38;5;241;43m4\u001b[39;49m\u001b[43m,\u001b[49m\u001b[43m \u001b[49m\u001b[38;5;241;43m5\u001b[39;49m\u001b[43m)\u001b[49m\n\u001b[0;32m      2\u001b[0m lunes,martes,miercoles,jueves,viernes \u001b[38;5;241m=\u001b[39m laborales\n\u001b[0;32m      3\u001b[0m laborales\n",
      "\u001b[1;31mTypeError\u001b[0m: 'tuple' object is not callable"
     ]
    }
   ],
   "source": [
    "laborales=(1, 2 , 3, 4, 5)\n",
    "lunes,martes,miercoles,jueves,viernes = laborales\n",
    "laborales"
   ]
  },
  {
   "cell_type": "code",
   "execution_count": 10,
   "id": "f6ee347e",
   "metadata": {},
   "outputs": [
    {
     "data": {
      "text/plain": [
       "(1, 2, 3, 4, 5)"
      ]
     },
     "execution_count": 10,
     "metadata": {},
     "output_type": "execute_result"
    }
   ],
   "source": [
    "laborales = (1, 2 , 3, 4, 5)\n",
    "lunes,martes,miercoles,jueves,viernes = laborales\n",
    "laborales"
   ]
  },
  {
   "cell_type": "code",
   "execution_count": 11,
   "id": "edefcf19",
   "metadata": {},
   "outputs": [
    {
     "data": {
      "text/plain": [
       "2"
      ]
     },
     "execution_count": 11,
     "metadata": {},
     "output_type": "execute_result"
    }
   ],
   "source": [
    "laborales = (1, 2 , 3, 4, 5)\n",
    "lunes,martes,miercoles,jueves,viernes = laborales\n",
    "martes"
   ]
  },
  {
   "cell_type": "code",
   "execution_count": 12,
   "id": "c48e4acf",
   "metadata": {},
   "outputs": [
    {
     "ename": "SyntaxError",
     "evalue": "expected ':' (3228737738.py, line 1)",
     "output_type": "error",
     "traceback": [
      "\u001b[1;36m  Cell \u001b[1;32mIn[12], line 1\u001b[1;36m\u001b[0m\n\u001b[1;33m    if 1 < 0\u001b[0m\n\u001b[1;37m            ^\u001b[0m\n\u001b[1;31mSyntaxError\u001b[0m\u001b[1;31m:\u001b[0m expected ':'\n"
     ]
    }
   ],
   "source": [
    "if 1 < 0\n",
    "    print(\"1 es menor que 0\")\n",
    "print(\"Esto se ejecuta siempre\")"
   ]
  },
  {
   "cell_type": "code",
   "execution_count": 13,
   "id": "d57704c3",
   "metadata": {},
   "outputs": [
    {
     "name": "stdout",
     "output_type": "stream",
     "text": [
      "Esto se ejecuta siempre\n"
     ]
    }
   ],
   "source": [
    "if 1 < 0:\n",
    "    print(\"1 es menor que 0\")\n",
    "print(\"Esto se ejecuta siempre\")"
   ]
  },
  {
   "cell_type": "code",
   "execution_count": null,
   "id": "2e57ecaf",
   "metadata": {},
   "outputs": [],
   "source": []
  },
  {
   "cell_type": "code",
   "execution_count": 14,
   "id": "1f93d8fa",
   "metadata": {},
   "outputs": [],
   "source": [
    "if 1 < 0:\n",
    "    print(\"1 es menor que 0\")\n",
    "    print(\"Esto se ejecuta siempre\")"
   ]
  },
  {
   "cell_type": "code",
   "execution_count": null,
   "id": "5709c401",
   "metadata": {},
   "outputs": [],
   "source": []
  },
  {
   "cell_type": "code",
   "execution_count": null,
   "id": "e871f065",
   "metadata": {},
   "outputs": [],
   "source": []
  },
  {
   "cell_type": "code",
   "execution_count": null,
   "id": "a3364f52",
   "metadata": {},
   "outputs": [],
   "source": []
  },
  {
   "cell_type": "code",
   "execution_count": null,
   "id": "8047e2ba",
   "metadata": {},
   "outputs": [],
   "source": []
  },
  {
   "cell_type": "code",
   "execution_count": null,
   "id": "9e00e602",
   "metadata": {},
   "outputs": [],
   "source": []
  },
  {
   "cell_type": "code",
   "execution_count": null,
   "id": "f8947f54",
   "metadata": {},
   "outputs": [],
   "source": []
  },
  {
   "cell_type": "code",
   "execution_count": null,
   "id": "e3d3a726",
   "metadata": {},
   "outputs": [],
   "source": []
  },
  {
   "cell_type": "code",
   "execution_count": null,
   "id": "753d27bf",
   "metadata": {},
   "outputs": [],
   "source": []
  },
  {
   "cell_type": "code",
   "execution_count": null,
   "id": "3d125663",
   "metadata": {},
   "outputs": [],
   "source": []
  },
  {
   "cell_type": "code",
   "execution_count": null,
   "id": "96616f84",
   "metadata": {},
   "outputs": [],
   "source": []
  },
  {
   "cell_type": "code",
   "execution_count": null,
   "id": "f7d301a4",
   "metadata": {},
   "outputs": [],
   "source": []
  },
  {
   "cell_type": "code",
   "execution_count": null,
   "id": "75f1de74",
   "metadata": {},
   "outputs": [],
   "source": []
  },
  {
   "cell_type": "code",
   "execution_count": null,
   "id": "f4616815",
   "metadata": {},
   "outputs": [],
   "source": []
  },
  {
   "cell_type": "code",
   "execution_count": null,
   "id": "66e68495",
   "metadata": {},
   "outputs": [],
   "source": []
  },
  {
   "cell_type": "code",
   "execution_count": null,
   "id": "605c14a2",
   "metadata": {},
   "outputs": [],
   "source": []
  },
  {
   "cell_type": "code",
   "execution_count": null,
   "id": "12021665",
   "metadata": {},
   "outputs": [],
   "source": []
  },
  {
   "cell_type": "code",
   "execution_count": null,
   "id": "6902d2f5",
   "metadata": {},
   "outputs": [],
   "source": []
  },
  {
   "cell_type": "code",
   "execution_count": null,
   "id": "84da2744",
   "metadata": {},
   "outputs": [],
   "source": []
  },
  {
   "cell_type": "code",
   "execution_count": null,
   "id": "a0311c2c",
   "metadata": {},
   "outputs": [],
   "source": []
  },
  {
   "cell_type": "code",
   "execution_count": 1,
   "id": "8f818e04",
   "metadata": {},
   "outputs": [
    {
     "ename": "SyntaxError",
     "evalue": "invalid syntax (1684918638.py, line 1)",
     "output_type": "error",
     "traceback": [
      "\u001b[1;36m  Cell \u001b[1;32mIn[1], line 1\u001b[1;36m\u001b[0m\n\u001b[1;33m    for i dic.keys():\u001b[0m\n\u001b[1;37m          ^\u001b[0m\n\u001b[1;31mSyntaxError\u001b[0m\u001b[1;31m:\u001b[0m invalid syntax\n"
     ]
    }
   ],
   "source": [
    "for i dic.keys():\n",
    "    print(i)"
   ]
  },
  {
   "cell_type": "code",
   "execution_count": 2,
   "id": "8cf39e29",
   "metadata": {},
   "outputs": [
    {
     "ename": "SyntaxError",
     "evalue": "invalid syntax (1739333450.py, line 1)",
     "output_type": "error",
     "traceback": [
      "\u001b[1;36m  Cell \u001b[1;32mIn[2], line 1\u001b[1;36m\u001b[0m\n\u001b[1;33m    dic = (1:\"Lunes\", 2:\"Martes\",3:\"Miercoles\")\u001b[0m\n\u001b[1;37m            ^\u001b[0m\n\u001b[1;31mSyntaxError\u001b[0m\u001b[1;31m:\u001b[0m invalid syntax\n"
     ]
    }
   ],
   "source": [
    "dic = (1:\"Lunes\", 2:\"Martes\",3:\"Miercoles\")\n",
    "for i dic.keys():\n",
    "    print(i)"
   ]
  },
  {
   "cell_type": "code",
   "execution_count": 3,
   "id": "887fb61c",
   "metadata": {},
   "outputs": [
    {
     "ename": "SyntaxError",
     "evalue": "invalid syntax (654634380.py, line 1)",
     "output_type": "error",
     "traceback": [
      "\u001b[1;36m  Cell \u001b[1;32mIn[3], line 1\u001b[1;36m\u001b[0m\n\u001b[1;33m    dic = (1:\"Lunes\", 2:\"Martes\",3:\"Miercoles\")\u001b[0m\n\u001b[1;37m            ^\u001b[0m\n\u001b[1;31mSyntaxError\u001b[0m\u001b[1;31m:\u001b[0m invalid syntax\n"
     ]
    }
   ],
   "source": [
    "dic = (1:\"Lunes\", 2:\"Martes\",3:\"Miercoles\")\n",
    "for i dic.items():\n",
    "    print(i)"
   ]
  },
  {
   "cell_type": "code",
   "execution_count": 4,
   "id": "5d0b1c00",
   "metadata": {},
   "outputs": [
    {
     "ename": "SyntaxError",
     "evalue": "invalid syntax (2903744200.py, line 1)",
     "output_type": "error",
     "traceback": [
      "\u001b[1;36m  Cell \u001b[1;32mIn[4], line 1\u001b[1;36m\u001b[0m\n\u001b[1;33m    dic = (1:'Lunes', 2:'Martes',3:'Miercoles')\u001b[0m\n\u001b[1;37m            ^\u001b[0m\n\u001b[1;31mSyntaxError\u001b[0m\u001b[1;31m:\u001b[0m invalid syntax\n"
     ]
    }
   ],
   "source": [
    "dic = (1:'Lunes', 2:'Martes',3:'Miercoles')\n",
    "for i dic.keys():\n",
    "    print(i)"
   ]
  },
  {
   "cell_type": "code",
   "execution_count": 5,
   "id": "9eac5b9d",
   "metadata": {},
   "outputs": [
    {
     "ename": "SyntaxError",
     "evalue": "invalid syntax (1704488294.py, line 1)",
     "output_type": "error",
     "traceback": [
      "\u001b[1;36m  Cell \u001b[1;32mIn[5], line 1\u001b[1;36m\u001b[0m\n\u001b[1;33m    dic = (1:\"Lunes\", 2:\"Martes\",3:\"Miercoles\")\u001b[0m\n\u001b[1;37m            ^\u001b[0m\n\u001b[1;31mSyntaxError\u001b[0m\u001b[1;31m:\u001b[0m invalid syntax\n"
     ]
    }
   ],
   "source": [
    "dic = (1:\"Lunes\", 2:\"Martes\",3:\"Miercoles\")\n",
    "for i  in dic.items():\n",
    "    print(i)"
   ]
  },
  {
   "cell_type": "code",
   "execution_count": 6,
   "id": "02bb3e85",
   "metadata": {},
   "outputs": [
    {
     "ename": "SyntaxError",
     "evalue": "invalid syntax (1171563693.py, line 1)",
     "output_type": "error",
     "traceback": [
      "\u001b[1;36m  Cell \u001b[1;32mIn[6], line 1\u001b[1;36m\u001b[0m\n\u001b[1;33m    dic = (1:'Lunes',  2:'Martes', 3:'Miercoles')\u001b[0m\n\u001b[1;37m            ^\u001b[0m\n\u001b[1;31mSyntaxError\u001b[0m\u001b[1;31m:\u001b[0m invalid syntax\n"
     ]
    }
   ],
   "source": [
    "dic = (1:'Lunes',  2:'Martes', 3:'Miercoles')\n",
    "for i  in dic.items():\n",
    "    print(i)"
   ]
  },
  {
   "cell_type": "code",
   "execution_count": 7,
   "id": "e8c5e749",
   "metadata": {},
   "outputs": [
    {
     "name": "stdout",
     "output_type": "stream",
     "text": [
      "-2\n",
      "-1\n",
      "0\n",
      "1\n",
      "2\n",
      "3\n",
      "4\n",
      "Estoy fuera del while\n"
     ]
    }
   ],
   "source": [
    "i = -2\n",
    "while i < 5:\n",
    "    print(i)\n",
    "    i = i + 1\n",
    "print(\"Estoy fuera del while\")"
   ]
  },
  {
   "cell_type": "code",
   "execution_count": 8,
   "id": "eb2a94b8",
   "metadata": {},
   "outputs": [
    {
     "ename": "SyntaxError",
     "evalue": "expected ':' (478999863.py, line 2)",
     "output_type": "error",
     "traceback": [
      "\u001b[1;36m  Cell \u001b[1;32mIn[8], line 2\u001b[1;36m\u001b[0m\n\u001b[1;33m    while i < 5\u001b[0m\n\u001b[1;37m               ^\u001b[0m\n\u001b[1;31mSyntaxError\u001b[0m\u001b[1;31m:\u001b[0m expected ':'\n"
     ]
    }
   ],
   "source": [
    "i = 0\n",
    "while i < 5\n",
    "   print(i)\n",
    "    i = i + 1\n",
    "    if i == 3:\n",
    "        break\n",
    "    "
   ]
  },
  {
   "cell_type": "code",
   "execution_count": 9,
   "id": "1ad9879d",
   "metadata": {},
   "outputs": [
    {
     "ename": "IndentationError",
     "evalue": "unexpected indent (2481566103.py, line 4)",
     "output_type": "error",
     "traceback": [
      "\u001b[1;36m  Cell \u001b[1;32mIn[9], line 4\u001b[1;36m\u001b[0m\n\u001b[1;33m    i = i + 1\u001b[0m\n\u001b[1;37m    ^\u001b[0m\n\u001b[1;31mIndentationError\u001b[0m\u001b[1;31m:\u001b[0m unexpected indent\n"
     ]
    }
   ],
   "source": [
    "i = 0\n",
    "while i < 5:\n",
    "   print(i)\n",
    "    i = i + 1\n",
    "    if i == 3:\n",
    "        break"
   ]
  },
  {
   "cell_type": "code",
   "execution_count": 10,
   "id": "9de44b4c",
   "metadata": {},
   "outputs": [
    {
     "name": "stdout",
     "output_type": "stream",
     "text": [
      "0\n",
      "1\n",
      "2\n"
     ]
    }
   ],
   "source": [
    "i = 0 \n",
    "while i < 5:\n",
    "    print(i)\n",
    "    i = i + 1\n",
    "    if i ==3:\n",
    "        break"
   ]
  },
  {
   "cell_type": "code",
   "execution_count": 11,
   "id": "211a9c36",
   "metadata": {},
   "outputs": [
    {
     "name": "stdout",
     "output_type": "stream",
     "text": [
      "0\n",
      "1\n",
      "1\n",
      "2\n",
      "2\n",
      "3\n"
     ]
    }
   ],
   "source": [
    "i = 0 \n",
    "while i < 5:\n",
    "    print(i)\n",
    "    i = i + 1\n",
    "    print(i)\n",
    "    if i ==3:\n",
    "        break"
   ]
  },
  {
   "cell_type": "code",
   "execution_count": 33,
   "id": "389c8bc1",
   "metadata": {},
   "outputs": [
    {
     "name": "stdout",
     "output_type": "stream",
     "text": [
      "1: Madrid\n",
      "2: Sevilla\n",
      "3: Segovia\n",
      "4: Valencia\n"
     ]
    }
   ],
   "source": [
    "ciudades = [\"Madrid\", \"Sevilla\", \"Segovia\", \"Valencia\"]\n",
    "\n",
    "for (i,valor) in enumerate(ciudades):\n",
    "    print('{}: {}'.format(i+1,valor))"
   ]
  },
  {
   "cell_type": "code",
   "execution_count": 13,
   "id": "13970016",
   "metadata": {},
   "outputs": [
    {
     "name": "stdout",
     "output_type": "stream",
     "text": [
      "4:Valencia\n",
      "3:Segovia\n",
      "2:Sevilla\n",
      "1:Madrid\n"
     ]
    }
   ],
   "source": [
    "ciudades = [\"Madrid\", \"Sevilla\", \"Segovia\", \"Valencia\"]\n",
    "\n",
    "for (i,valor) in enumerate(reversed(ciudades)):\n",
    "    print('{}:{}'.format(len(ciudades)-i,valor))"
   ]
  },
  {
   "cell_type": "code",
   "execution_count": 14,
   "id": "b69bdd44",
   "metadata": {},
   "outputs": [
    {
     "data": {
      "text/plain": [
       "False"
      ]
     },
     "execution_count": 14,
     "metadata": {},
     "output_type": "execute_result"
    }
   ],
   "source": [
    "dic = { }\n",
    "bool(dic)"
   ]
  },
  {
   "cell_type": "code",
   "execution_count": 15,
   "id": "957693d4",
   "metadata": {},
   "outputs": [
    {
     "data": {
      "text/plain": [
       "{1: 'Lunes', 2: 'Martes', 3: 'Miercoles'}"
      ]
     },
     "execution_count": 15,
     "metadata": {},
     "output_type": "execute_result"
    }
   ],
   "source": [
    "dic = {1:'Lunes', 2:'Martes', 3:'Miercoles' }\n",
    "dic"
   ]
  },
  {
   "cell_type": "code",
   "execution_count": 16,
   "id": "98f66ed7",
   "metadata": {},
   "outputs": [
    {
     "data": {
      "text/plain": [
       "{1: 'Lunes', 2: 'Martes', 3: 'Miercoles'}"
      ]
     },
     "execution_count": 16,
     "metadata": {},
     "output_type": "execute_result"
    }
   ],
   "source": [
    "dic"
   ]
  },
  {
   "cell_type": "code",
   "execution_count": 17,
   "id": "f58d2d4c",
   "metadata": {},
   "outputs": [
    {
     "ename": "SyntaxError",
     "evalue": "invalid syntax (2410716726.py, line 1)",
     "output_type": "error",
     "traceback": [
      "\u001b[1;36m  Cell \u001b[1;32mIn[17], line 1\u001b[1;36m\u001b[0m\n\u001b[1;33m    d = ('Hola' :['Hi', 'Hello'],\u001b[0m\n\u001b[1;37m                ^\u001b[0m\n\u001b[1;31mSyntaxError\u001b[0m\u001b[1;31m:\u001b[0m invalid syntax\n"
     ]
    }
   ],
   "source": [
    "d = ('Hola' :['Hi', 'Hello'],\n",
    "    'Comer' : ['eat'])\n",
    "len(d)"
   ]
  },
  {
   "cell_type": "code",
   "execution_count": 18,
   "id": "2b13fae8",
   "metadata": {},
   "outputs": [
    {
     "data": {
      "text/plain": [
       "2"
      ]
     },
     "execution_count": 18,
     "metadata": {},
     "output_type": "execute_result"
    }
   ],
   "source": [
    "d = {'Hola' :['Hi', 'Hello'],\n",
    "    'Comer' : ['eat']}\n",
    "len(d)"
   ]
  },
  {
   "cell_type": "code",
   "execution_count": 19,
   "id": "718beac6",
   "metadata": {},
   "outputs": [
    {
     "data": {
      "text/plain": [
       "{'Lunes': 1, 'Martes': 2, 'Finde': (6, 7)}"
      ]
     },
     "execution_count": 19,
     "metadata": {},
     "output_type": "execute_result"
    }
   ],
   "source": [
    "d1 ={'Lunes' :1, 'Martes' :2 , 'Finde' :(6,7)}\n",
    "d1"
   ]
  },
  {
   "cell_type": "code",
   "execution_count": 20,
   "id": "7a906d91",
   "metadata": {},
   "outputs": [
    {
     "data": {
      "text/plain": [
       "{'Juan': 609922565, 'Ana': 691252580, 'Luis': 642589569}"
      ]
     },
     "execution_count": 20,
     "metadata": {},
     "output_type": "execute_result"
    }
   ],
   "source": [
    "d2 = {}\n",
    "d2['Juan'] = 609922565\n",
    "d2['Ana'] = 691252580\n",
    "d2['Luis'] = 642589569\n",
    "d2"
   ]
  },
  {
   "cell_type": "code",
   "execution_count": 21,
   "id": "e25b2b69",
   "metadata": {},
   "outputs": [
    {
     "data": {
      "text/plain": [
       "False"
      ]
     },
     "execution_count": 21,
     "metadata": {},
     "output_type": "execute_result"
    }
   ],
   "source": [
    "'carlota' in d2"
   ]
  },
  {
   "cell_type": "code",
   "execution_count": 22,
   "id": "9c1672fb",
   "metadata": {},
   "outputs": [
    {
     "data": {
      "text/plain": [
       "{'Juan': 609922565, 'Ana': 691252580, 'Luis': 642589569}"
      ]
     },
     "execution_count": 22,
     "metadata": {},
     "output_type": "execute_result"
    }
   ],
   "source": [
    "d2"
   ]
  },
  {
   "cell_type": "code",
   "execution_count": 23,
   "id": "787660bd",
   "metadata": {},
   "outputs": [
    {
     "data": {
      "text/plain": [
       "691252580"
      ]
     },
     "execution_count": 23,
     "metadata": {},
     "output_type": "execute_result"
    }
   ],
   "source": [
    "e = d2.pop('Ana')\n",
    "e"
   ]
  },
  {
   "cell_type": "code",
   "execution_count": 24,
   "id": "ad2f74d7",
   "metadata": {},
   "outputs": [
    {
     "data": {
      "text/plain": [
       "dict_keys(['Juan', 'Luis'])"
      ]
     },
     "execution_count": 24,
     "metadata": {},
     "output_type": "execute_result"
    }
   ],
   "source": [
    "d2.keys()"
   ]
  },
  {
   "cell_type": "code",
   "execution_count": 25,
   "id": "3610a79f",
   "metadata": {},
   "outputs": [
    {
     "data": {
      "text/plain": [
       "dict_values([609922565, 642589569])"
      ]
     },
     "execution_count": 25,
     "metadata": {},
     "output_type": "execute_result"
    }
   ],
   "source": [
    "d2.values()"
   ]
  },
  {
   "cell_type": "code",
   "execution_count": 26,
   "id": "876c5a2e",
   "metadata": {},
   "outputs": [
    {
     "ename": "SyntaxError",
     "evalue": "invalid syntax (648808223.py, line 2)",
     "output_type": "error",
     "traceback": [
      "\u001b[1;36m  Cell \u001b[1;32mIn[26], line 2\u001b[1;36m\u001b[0m\n\u001b[1;33m    for L range(1):\u001b[0m\n\u001b[1;37m          ^\u001b[0m\n\u001b[1;31mSyntaxError\u001b[0m\u001b[1;31m:\u001b[0m invalid syntax\n"
     ]
    }
   ],
   "source": [
    "L = ['a','b','c',4,5,6,7,8,9]\n",
    "for L range(1):\n",
    "    print(L)"
   ]
  },
  {
   "cell_type": "code",
   "execution_count": 27,
   "id": "7cfd5b27",
   "metadata": {},
   "outputs": [
    {
     "name": "stdout",
     "output_type": "stream",
     "text": [
      "0\n"
     ]
    }
   ],
   "source": [
    "L = ['a','b','c',4,5,6,7,8,9]\n",
    "for L in range(1):\n",
    "    print(L)"
   ]
  },
  {
   "cell_type": "code",
   "execution_count": 28,
   "id": "c173f12e",
   "metadata": {},
   "outputs": [
    {
     "name": "stdout",
     "output_type": "stream",
     "text": [
      "0\n",
      "1\n"
     ]
    }
   ],
   "source": [
    "L = ['a','b','c',4,5,6,7,8,9]\n",
    "for L in range(2):\n",
    "    print(L)"
   ]
  },
  {
   "cell_type": "code",
   "execution_count": 29,
   "id": "3d8a33f9",
   "metadata": {},
   "outputs": [
    {
     "name": "stdout",
     "output_type": "stream",
     "text": [
      "0\n",
      "1\n",
      "2\n"
     ]
    }
   ],
   "source": [
    "L = ['a','b','c',4,5,6,7,8,9]\n",
    "for L in range(3):\n",
    "    print(L)"
   ]
  },
  {
   "cell_type": "code",
   "execution_count": 32,
   "id": "677da5d3",
   "metadata": {},
   "outputs": [
    {
     "ename": "SyntaxError",
     "evalue": "invalid syntax (671502581.py, line 2)",
     "output_type": "error",
     "traceback": [
      "\u001b[1;36m  Cell \u001b[1;32mIn[32], line 2\u001b[1;36m\u001b[0m\n\u001b[1;33m    for L in  L.items range(1):\u001b[0m\n\u001b[1;37m                      ^\u001b[0m\n\u001b[1;31mSyntaxError\u001b[0m\u001b[1;31m:\u001b[0m invalid syntax\n"
     ]
    }
   ],
   "source": [
    "L = ['a','b','c',4,5,6,7,8,9]\n",
    "for L in  L.items range(1):\n",
    "    print(L)"
   ]
  },
  {
   "cell_type": "code",
   "execution_count": 41,
   "id": "d9bd9f7e",
   "metadata": {},
   "outputs": [
    {
     "ename": "TypeError",
     "evalue": "'list' object cannot be interpreted as an integer",
     "output_type": "error",
     "traceback": [
      "\u001b[1;31m---------------------------------------------------------------------------\u001b[0m",
      "\u001b[1;31mTypeError\u001b[0m                                 Traceback (most recent call last)",
      "Cell \u001b[1;32mIn[41], line 4\u001b[0m\n\u001b[0;32m      1\u001b[0m d \u001b[38;5;241m=\u001b[39m  { \u001b[38;5;241m1\u001b[39m: \u001b[38;5;124m'\u001b[39m\u001b[38;5;124mRoma\u001b[39m\u001b[38;5;124m'\u001b[39m, \u001b[38;5;241m2\u001b[39m: \u001b[38;5;124m'\u001b[39m\u001b[38;5;124mMilán\u001b[39m\u001b[38;5;124m'\u001b[39m, \u001b[38;5;241m3\u001b[39m:\u001b[38;5;124m'\u001b[39m\u001b[38;5;124mNápoles\u001b[39m\u001b[38;5;124m'\u001b[39m, \u001b[38;5;241m4\u001b[39m:\u001b[38;5;124m'\u001b[39m\u001b[38;5;124mTurín\u001b[39m\u001b[38;5;124m'\u001b[39m, \u001b[38;5;241m5\u001b[39m:\u001b[38;5;124m'\u001b[39m\u001b[38;5;124mPalermo\u001b[39m\u001b[38;5;124m'\u001b[39m ,\u001b[38;5;241m6\u001b[39m: \u001b[38;5;124m'\u001b[39m\u001b[38;5;124mGénova\u001b[39m\u001b[38;5;124m'\u001b[39m ,\u001b[38;5;241m7\u001b[39m:\u001b[38;5;124m'\u001b[39m\u001b[38;5;124mBolonia\u001b[39m\u001b[38;5;124m'\u001b[39m, \u001b[38;5;241m8\u001b[39m:\u001b[38;5;124m'\u001b[39m\u001b[38;5;124mFlorencia\u001b[39m\u001b[38;5;124m'\u001b[39m, \u001b[38;5;241m9\u001b[39m:\u001b[38;5;124m'\u001b[39m\u001b[38;5;124mBari\u001b[39m\u001b[38;5;124m'\u001b[39m, \u001b[38;5;241m10\u001b[39m:\u001b[38;5;124m'\u001b[39m\u001b[38;5;124mCatania\u001b[39m\u001b[38;5;124m'\u001b[39m}\n\u001b[0;32m      2\u001b[0m pob \u001b[38;5;241m=\u001b[39m  [\u001b[38;5;241m2718768\u001b[39m, \u001b[38;5;241m1299633\u001b[39m, \u001b[38;5;241m973132\u001b[39m, \u001b[38;5;241m908263\u001b[39m, \u001b[38;5;241m663173\u001b[39m, \u001b[38;5;241m610887\u001b[39m, \u001b[38;5;241m372256\u001b[39m, \u001b[38;5;241m364710\u001b[39m, \u001b[38;5;241m322511\u001b[39m, \u001b[38;5;241m298957\u001b[39m]\n\u001b[1;32m----> 4\u001b[0m \u001b[38;5;28;01mfor\u001b[39;00m (i,valor,valor) \u001b[38;5;129;01min\u001b[39;00m \u001b[38;5;28;43menumerate\u001b[39;49m\u001b[43m(\u001b[49m\u001b[43md\u001b[49m\u001b[43m,\u001b[49m\u001b[43mpob\u001b[49m\u001b[43m)\u001b[49m:\n\u001b[0;32m      5\u001b[0m     \u001b[38;5;28mprint\u001b[39m(\u001b[38;5;124m'\u001b[39m\u001b[38;5;132;01m{}\u001b[39;00m\u001b[38;5;124m: \u001b[39m\u001b[38;5;132;01m{}\u001b[39;00m\u001b[38;5;124m: \u001b[39m\u001b[38;5;132;01m{}\u001b[39;00m\u001b[38;5;124m'\u001b[39m\u001b[38;5;241m.\u001b[39mformat(i\u001b[38;5;241m+\u001b[39m\u001b[38;5;241m1\u001b[39m,valor,valor))\n",
      "\u001b[1;31mTypeError\u001b[0m: 'list' object cannot be interpreted as an integer"
     ]
    }
   ],
   "source": [
    "d =  { 1: 'Roma', 2: 'Milán', 3:'Nápoles', 4:'Turín', 5:'Palermo' ,6: 'Génova' ,7:'Bolonia', 8:'Florencia', 9:'Bari', 10:'Catania'}\n",
    "pob =  [2718768, 1299633, 973132, 908263, 663173, 610887, 372256, 364710, 322511, 298957]\n",
    "\n",
    "for (i,valor,valor) in enumerate(d,pob):\n",
    "    print('{}: {}: {}'.format(i+1,valor,valor))"
   ]
  },
  {
   "cell_type": "code",
   "execution_count": 1,
   "id": "ce336da0",
   "metadata": {},
   "outputs": [
    {
     "ename": "NameError",
     "evalue": "name 'loadtxt' is not defined",
     "output_type": "error",
     "traceback": [
      "\u001b[1;31m---------------------------------------------------------------------------\u001b[0m",
      "\u001b[1;31mNameError\u001b[0m                                 Traceback (most recent call last)",
      "Cell \u001b[1;32mIn[1], line 3\u001b[0m\n\u001b[0;32m      1\u001b[0m \u001b[38;5;28;01mimport\u001b[39;00m \u001b[38;5;21;01mnumpy\u001b[39;00m \u001b[38;5;28;01mas\u001b[39;00m \u001b[38;5;21;01mnp\u001b[39;00m\n\u001b[0;32m      2\u001b[0m precipitaciones \u001b[38;5;241m=\u001b[39m np\u001b[38;5;241m.\u001b[39mloadtxt(\u001b[38;5;124m'\u001b[39m\u001b[38;5;124mrotterdam_rainfall.txt\u001b[39m\u001b[38;5;124m'\u001b[39m, delimiter\u001b[38;5;241m=\u001b[39m\u001b[38;5;124m'\u001b[39m\u001b[38;5;124m,\u001b[39m\u001b[38;5;124m'\u001b[39m)\n\u001b[1;32m----> 3\u001b[0m precipitaciones \u001b[38;5;241m=\u001b[39m np\u001b[38;5;241m-\u001b[39m\u001b[43mloadtxt\u001b[49m(\u001b[38;5;124m'\u001b[39m\u001b[38;5;124mrotterdam_rainfall.txt\u001b[39m\u001b[38;5;124m'\u001b[39m, delimiter\u001b[38;5;241m=\u001b[39m\u001b[38;5;124m'\u001b[39m\u001b[38;5;124m,\u001b[39m\u001b[38;5;124m'\u001b[39m, dtype \u001b[38;5;241m=\u001b[39m \u001b[38;5;28mint\u001b[39m, usecols\u001b[38;5;241m=\u001b[39m[\u001b[38;5;241m1\u001b[39m])\n\u001b[0;32m      4\u001b[0m precip_positivas\u001b[38;5;241m=\u001b[39m (precipitaciones[precipitaciones\u001b[38;5;241m>\u001b[39m\u001b[38;5;241m=\u001b[39m\u001b[38;5;241m0\u001b[39m])\n\u001b[0;32m      5\u001b[0m \u001b[38;5;28mprint\u001b[39m(\u001b[38;5;28mlen\u001b[39m(precip_positivas))\n",
      "\u001b[1;31mNameError\u001b[0m: name 'loadtxt' is not defined"
     ]
    }
   ],
   "source": [
    "import numpy as np\n",
    "precipitaciones = np.loadtxt('rotterdam_rainfall.txt', delimiter=',')\n",
    "precipitaciones = np-loadtxt('rotterdam_rainfall.txt', delimiter=',', dtype = int, usecols=[1])\n",
    "precip_positivas= (precipitaciones[precipitaciones>=0])\n",
    "print(len(precip_positivas))"
   ]
  },
  {
   "cell_type": "code",
   "execution_count": null,
   "id": "6b1b9cf9",
   "metadata": {},
   "outputs": [],
   "source": []
  },
  {
   "cell_type": "code",
   "execution_count": 2,
   "id": "bcf89580",
   "metadata": {},
   "outputs": [
    {
     "name": "stdout",
     "output_type": "stream",
     "text": [
      "324\n"
     ]
    }
   ],
   "source": [
    "import numpy as np\n",
    "precipitaciones = np.loadtxt('rotterdam_rainfall.txt', delimiter=',')\n",
    "precipitaciones = np.loadtxt('rotterdam_rainfall.txt', delimiter=',', dtype = int, usecols=[1])\n",
    "precip_positivas= (precipitaciones[precipitaciones>=0])\n",
    "print(len(precip_positivas))"
   ]
  },
  {
   "cell_type": "code",
   "execution_count": 3,
   "id": "33810c1c",
   "metadata": {},
   "outputs": [
    {
     "name": "stdout",
     "output_type": "stream",
     "text": [
      "324\n",
      "Media: 30.700617283950617\n"
     ]
    }
   ],
   "source": [
    "import numpy as np\n",
    "precipitaciones = np.loadtxt('rotterdam_rainfall.txt', delimiter=',')\n",
    "precipitaciones = np.loadtxt('rotterdam_rainfall.txt', delimiter=',', dtype = int, usecols=[1])\n",
    "precip_positivas= (precipitaciones[precipitaciones>=0])\n",
    "print(len(precip_positivas))\n",
    "print(\"Media:\", np.mean(precip_positivas))"
   ]
  },
  {
   "cell_type": "code",
   "execution_count": 6,
   "id": "0fdd0ebe",
   "metadata": {},
   "outputs": [
    {
     "name": "stdout",
     "output_type": "stream",
     "text": [
      "324\n",
      "Media: 30.700617283950617\n",
      "Máximo día y Máximo precio: [20121222      224]\n"
     ]
    }
   ],
   "source": [
    "import numpy as np\n",
    "precipitaciones = np.loadtxt('rotterdam_rainfall.txt', delimiter=',')\n",
    "precipitaciones = np.loadtxt('rotterdam_rainfall.txt', delimiter=',', dtype = int, usecols=[1])\n",
    "precip_positivas= (precipitaciones[precipitaciones>=0])\n",
    "print(len(precip_positivas))\n",
    "print(\"Media:\", np.mean(precip_positivas))\n",
    "precipitaciones = np.loadtxt('rotterdam_rainfall.txt', delimiter=',', dtype= int, usecols=[1])\n",
    "precipitacionesdia = np.loadtxt('rotterdam_rainfall.txt', delimiter=',',dtype= int)\n",
    "posicion = precipitaciones.tolist().index(np.max(precip_positivas))\n",
    "print(\"Máximo día y Máximo precio:\", precipitacionesdia[posicion])"
   ]
  },
  {
   "cell_type": "code",
   "execution_count": 8,
   "id": "111042ce",
   "metadata": {},
   "outputs": [
    {
     "name": "stdout",
     "output_type": "stream",
     "text": [
      "324\n",
      "Media: 30.700617283950617\n",
      "Máximo día y Máximo precio: [20121222      224]\n"
     ]
    },
    {
     "data": {
      "text/plain": [
       "array([[20120101,     2070],\n",
       "       [20120102,      -10],\n",
       "       [20120103,     1440],\n",
       "       [20120104,      360],\n",
       "       [20120105,      840],\n",
       "       [20120106,       80],\n",
       "       [20120107,      300],\n",
       "       [20120108,      -10],\n",
       "       [20120109,       80],\n",
       "       [20120110,        0],\n",
       "       [20120111,      100],\n",
       "       [20120112,       90],\n",
       "       [20120113,       40],\n",
       "       [20120114,      -10],\n",
       "       [20120115,        0],\n",
       "       [20120116,        0],\n",
       "       [20120117,        0],\n",
       "       [20120118,      320],\n",
       "       [20120119,     1440],\n",
       "       [20120120,      -10],\n",
       "       [20120121,      350],\n",
       "       [20120122,      190],\n",
       "       [20120123,      160],\n",
       "       [20120124,       50],\n",
       "       [20120125,       50],\n",
       "       [20120126,      330],\n",
       "       [20120127,      -10],\n",
       "       [20120128,      -10],\n",
       "       [20120129,        0],\n",
       "       [20120130,       10],\n",
       "       [20120131,      -10],\n",
       "       [20120201,        0],\n",
       "       [20120202,        0],\n",
       "       [20120203,      270],\n",
       "       [20120204,        0],\n",
       "       [20120205,        0],\n",
       "       [20120206,        0],\n",
       "       [20120207,        0],\n",
       "       [20120208,        0],\n",
       "       [20120209,      -10],\n",
       "       [20120210,        0],\n",
       "       [20120211,        0],\n",
       "       [20120212,       50],\n",
       "       [20120213,      180],\n",
       "       [20120214,      190],\n",
       "       [20120215,      290],\n",
       "       [20120216,       60],\n",
       "       [20120217,       40],\n",
       "       [20120218,      800],\n",
       "       [20120219,      250],\n",
       "       [20120220,      -10],\n",
       "       [20120221,        0],\n",
       "       [20120222,      260],\n",
       "       [20120223,      -10],\n",
       "       [20120224,       10],\n",
       "       [20120225,        0],\n",
       "       [20120226,        0],\n",
       "       [20120227,        0],\n",
       "       [20120228,       30],\n",
       "       [20120229,      -10],\n",
       "       [20120301,        0],\n",
       "       [20120302,        0],\n",
       "       [20120303,      -10],\n",
       "       [20120304,      430],\n",
       "       [20120305,      450],\n",
       "       [20120306,        0],\n",
       "       [20120307,     1230],\n",
       "       [20120308,        0],\n",
       "       [20120309,        0],\n",
       "       [20120310,       10],\n",
       "       [20120311,        0],\n",
       "       [20120312,        0],\n",
       "       [20120313,        0],\n",
       "       [20120314,        0],\n",
       "       [20120315,        0],\n",
       "       [20120316,        0],\n",
       "       [20120317,      -10],\n",
       "       [20120318,       70],\n",
       "       [20120319,        0],\n",
       "       [20120320,        0],\n",
       "       [20120321,        0],\n",
       "       [20120322,        0],\n",
       "       [20120323,        0],\n",
       "       [20120324,        0],\n",
       "       [20120325,        0],\n",
       "       [20120326,        0],\n",
       "       [20120327,        0],\n",
       "       [20120328,        0],\n",
       "       [20120329,        0],\n",
       "       [20120330,      -10],\n",
       "       [20120331,      -10],\n",
       "       [20120401,        0],\n",
       "       [20120402,        0],\n",
       "       [20120403,      -10],\n",
       "       [20120404,      400],\n",
       "       [20120405,        0],\n",
       "       [20120406,      100],\n",
       "       [20120407,       30],\n",
       "       [20120408,      300],\n",
       "       [20120409,      650],\n",
       "       [20120410,      230],\n",
       "       [20120411,      130],\n",
       "       [20120412,      -10],\n",
       "       [20120413,      -10],\n",
       "       [20120414,        0],\n",
       "       [20120415,      -10],\n",
       "       [20120416,       60],\n",
       "       [20120417,      350],\n",
       "       [20120418,       80],\n",
       "       [20120419,      320],\n",
       "       [20120420,      150],\n",
       "       [20120421,      120],\n",
       "       [20120422,       10],\n",
       "       [20120423,      380],\n",
       "       [20120424,      300],\n",
       "       [20120425,      250],\n",
       "       [20120426,      660],\n",
       "       [20120427,       40],\n",
       "       [20120428,     1190],\n",
       "       [20120429,       10],\n",
       "       [20120430,      -10],\n",
       "       [20120501,     1020],\n",
       "       [20120502,     1130],\n",
       "       [20120503,      -10],\n",
       "       [20120504,      -10],\n",
       "       [20120505,      -10],\n",
       "       [20120506,        0],\n",
       "       [20120507,       10],\n",
       "       [20120508,      660],\n",
       "       [20120509,     1240],\n",
       "       [20120510,      540],\n",
       "       [20120511,      -10],\n",
       "       [20120512,       20],\n",
       "       [20120513,        0],\n",
       "       [20120514,      150],\n",
       "       [20120515,     1060],\n",
       "       [20120516,      210],\n",
       "       [20120517,        0],\n",
       "       [20120518,       30],\n",
       "       [20120519,        0],\n",
       "       [20120520,      510],\n",
       "       [20120521,        0],\n",
       "       [20120522,        0],\n",
       "       [20120523,        0],\n",
       "       [20120524,        0],\n",
       "       [20120525,        0],\n",
       "       [20120526,        0],\n",
       "       [20120527,        0],\n",
       "       [20120528,        0],\n",
       "       [20120529,      350],\n",
       "       [20120530,        0],\n",
       "       [20120531,      720],\n",
       "       [20120601,       50],\n",
       "       [20120602,      -10],\n",
       "       [20120603,     1010],\n",
       "       [20120604,     1570],\n",
       "       [20120605,       10],\n",
       "       [20120606,      690],\n",
       "       [20120607,      170],\n",
       "       [20120608,       70],\n",
       "       [20120609,      210],\n",
       "       [20120610,      -10],\n",
       "       [20120611,     1860],\n",
       "       [20120612,      160],\n",
       "       [20120613,        0],\n",
       "       [20120614,        0],\n",
       "       [20120615,      960],\n",
       "       [20120616,      320],\n",
       "       [20120617,      -10],\n",
       "       [20120618,     1300],\n",
       "       [20120619,        0],\n",
       "       [20120620,        0],\n",
       "       [20120621,     1120],\n",
       "       [20120622,      710],\n",
       "       [20120623,        0],\n",
       "       [20120624,     1320],\n",
       "       [20120625,        0],\n",
       "       [20120626,        0],\n",
       "       [20120627,        0],\n",
       "       [20120628,      -10],\n",
       "       [20120629,      -10],\n",
       "       [20120630,      370],\n",
       "       [20120701,       40],\n",
       "       [20120702,        0],\n",
       "       [20120703,        0],\n",
       "       [20120704,       10],\n",
       "       [20120705,      400],\n",
       "       [20120706,     1070],\n",
       "       [20120707,       60],\n",
       "       [20120708,      690],\n",
       "       [20120709,      -10],\n",
       "       [20120710,       30],\n",
       "       [20120711,     1260],\n",
       "       [20120712,      670],\n",
       "       [20120713,      430],\n",
       "       [20120714,      810],\n",
       "       [20120715,     1040],\n",
       "       [20120716,     2120],\n",
       "       [20120717,       10],\n",
       "       [20120718,      480],\n",
       "       [20120719,      720],\n",
       "       [20120720,      -10],\n",
       "       [20120721,       10],\n",
       "       [20120722,        0],\n",
       "       [20120723,        0],\n",
       "       [20120724,        0],\n",
       "       [20120725,        0],\n",
       "       [20120726,        0],\n",
       "       [20120727,      830],\n",
       "       [20120728,       10],\n",
       "       [20120729,      360],\n",
       "       [20120730,      970],\n",
       "       [20120731,      140],\n",
       "       [20120801,      370],\n",
       "       [20120802,      510],\n",
       "       [20120803,      360],\n",
       "       [20120804,       60],\n",
       "       [20120805,     1300],\n",
       "       [20120806,       80],\n",
       "       [20120807,     1180],\n",
       "       [20120808,       10],\n",
       "       [20120809,        0],\n",
       "       [20120810,        0],\n",
       "       [20120811,        0],\n",
       "       [20120812,        0],\n",
       "       [20120813,      200],\n",
       "       [20120814,       30],\n",
       "       [20120815,       20],\n",
       "       [20120816,        0],\n",
       "       [20120817,        0],\n",
       "       [20120818,        0],\n",
       "       [20120819,       60],\n",
       "       [20120820,        0],\n",
       "       [20120821,      -10],\n",
       "       [20120822,        0],\n",
       "       [20120823,        0],\n",
       "       [20120824,      190],\n",
       "       [20120825,      470],\n",
       "       [20120826,     1820],\n",
       "       [20120827,      -10],\n",
       "       [20120828,      240],\n",
       "       [20120829,      160],\n",
       "       [20120830,      890],\n",
       "       [20120831,     1390],\n",
       "       [20120901,        0],\n",
       "       [20120902,        0],\n",
       "       [20120903,      -10],\n",
       "       [20120904,        0],\n",
       "       [20120905,        0],\n",
       "       [20120906,        0],\n",
       "       [20120907,        0],\n",
       "       [20120908,        0],\n",
       "       [20120909,        0],\n",
       "       [20120910,       10],\n",
       "       [20120911,       40],\n",
       "       [20120912,      300],\n",
       "       [20120913,        0],\n",
       "       [20120914,       80],\n",
       "       [20120915,      -10],\n",
       "       [20120916,        0],\n",
       "       [20120917,       80],\n",
       "       [20120918,      500],\n",
       "       [20120919,      170],\n",
       "       [20120920,      140],\n",
       "       [20120921,       50],\n",
       "       [20120922,      270],\n",
       "       [20120923,      700],\n",
       "       [20120924,     1480],\n",
       "       [20120925,      780],\n",
       "       [20120926,      -10],\n",
       "       [20120927,      440],\n",
       "       [20120928,       60],\n",
       "       [20120929,      100],\n",
       "       [20120930,        0],\n",
       "       [20121001,      190],\n",
       "       [20121002,      120],\n",
       "       [20121003,      490],\n",
       "       [20121004,     1070],\n",
       "       [20121005,     1300],\n",
       "       [20121006,     1410],\n",
       "       [20121007,        0],\n",
       "       [20121008,      -10],\n",
       "       [20121009,        0],\n",
       "       [20121010,        0],\n",
       "       [20121011,       70],\n",
       "       [20121012,     1150],\n",
       "       [20121013,     1660],\n",
       "       [20121014,     1430],\n",
       "       [20121015,      140],\n",
       "       [20121016,      290],\n",
       "       [20121017,      180],\n",
       "       [20121018,     1000],\n",
       "       [20121019,      350],\n",
       "       [20121020,       40],\n",
       "       [20121021,       80],\n",
       "       [20121022,        0],\n",
       "       [20121023,        0],\n",
       "       [20121024,       10],\n",
       "       [20121025,       30],\n",
       "       [20121026,      -10],\n",
       "       [20121027,      -10],\n",
       "       [20121028,       10],\n",
       "       [20121029,     1190],\n",
       "       [20121030,     1050],\n",
       "       [20121031,      -10],\n",
       "       [20121101,      450],\n",
       "       [20121102,      160],\n",
       "       [20121103,      150],\n",
       "       [20121104,     1030],\n",
       "       [20121105,      460],\n",
       "       [20121106,     1050],\n",
       "       [20121107,       40],\n",
       "       [20121108,       20],\n",
       "       [20121109,       10],\n",
       "       [20121110,      420],\n",
       "       [20121111,      360],\n",
       "       [20121112,       40],\n",
       "       [20121113,       50],\n",
       "       [20121114,        0],\n",
       "       [20121115,        0],\n",
       "       [20121116,        0],\n",
       "       [20121117,       90],\n",
       "       [20121118,      360],\n",
       "       [20121119,        0],\n",
       "       [20121120,        0],\n",
       "       [20121121,       90],\n",
       "       [20121122,        0],\n",
       "       [20121123,      500],\n",
       "       [20121124,      480],\n",
       "       [20121125,      170],\n",
       "       [20121126,       60],\n",
       "       [20121127,       10],\n",
       "       [20121128,       90],\n",
       "       [20121129,       60],\n",
       "       [20121130,      180],\n",
       "       [20121201,     1090],\n",
       "       [20121202,      930],\n",
       "       [20121203,      520],\n",
       "       [20121204,      960],\n",
       "       [20121205,      290],\n",
       "       [20121206,       70],\n",
       "       [20121207,     1070],\n",
       "       [20121208,       10],\n",
       "       [20121209,     1020],\n",
       "       [20121210,      160],\n",
       "       [20121211,       20],\n",
       "       [20121212,      -10],\n",
       "       [20121213,      -10],\n",
       "       [20121214,     1030],\n",
       "       [20121215,       80],\n",
       "       [20121216,      240],\n",
       "       [20121217,      310],\n",
       "       [20121218,      160],\n",
       "       [20121219,        0],\n",
       "       [20121220,      680],\n",
       "       [20121221,       90],\n",
       "       [20121222,     2240],\n",
       "       [20121223,      760],\n",
       "       [20121224,      320],\n",
       "       [20121225,     1250],\n",
       "       [20121226,      450],\n",
       "       [20121227,      270],\n",
       "       [20121228,      180],\n",
       "       [20121229,       20],\n",
       "       [20121230,      230],\n",
       "       [20121231,      500]])"
      ]
     },
     "execution_count": 8,
     "metadata": {},
     "output_type": "execute_result"
    }
   ],
   "source": [
    "import numpy as np\n",
    "precipitaciones = np.loadtxt('rotterdam_rainfall.txt', delimiter=',')\n",
    "precipitaciones = np.loadtxt('rotterdam_rainfall.txt', delimiter=',', dtype = int, usecols=[1])\n",
    "precip_positivas= (precipitaciones[precipitaciones>=0])\n",
    "print(len(precip_positivas))\n",
    "print(\"Media:\", np.mean(precip_positivas))\n",
    "precipitaciones = np.loadtxt('rotterdam_rainfall.txt', delimiter=',', dtype= int, usecols=[1])\n",
    "precipitacionesdia = np.loadtxt('rotterdam_rainfall.txt', delimiter=',',dtype= int)\n",
    "posicion = precipitaciones.tolist().index(np.max(precip_positivas))\n",
    "print(\"Máximo día y Máximo precio:\", precipitacionesdia[posicion])\n",
    "precipitacionesdia[::,1] = precipitacionesdia[:,1]*10\n",
    "precipitacionesdia"
   ]
  },
  {
   "cell_type": "code",
   "execution_count": 10,
   "id": "cd1546ab",
   "metadata": {},
   "outputs": [
    {
     "name": "stderr",
     "output_type": "stream",
     "text": [
      "C:\\Users\\Medac\\AppData\\Local\\Temp\\ipykernel_5020\\58606767.py:2: DeprecationWarning: loadtxt(): Parsing an integer via a float is deprecated.  To avoid this warning, you can:\n",
      "    * make sure the original data is stored as integers.\n",
      "    * use the `converters=` keyword argument.  If you only use\n",
      "      NumPy 1.23 or later, `converters=float` will normally work.\n",
      "    * Use `np.loadtxt(...).astype(np.int64)` parsing the file as\n",
      "      floating point and then convert it.  (On all NumPy versions.)\n",
      "  (Deprecated NumPy 1.23)\n",
      "  juan = np.loadtxt('col_juan.txt',delimiter=',',dtype='i')\n",
      "C:\\Users\\Medac\\AppData\\Local\\Temp\\ipykernel_5020\\58606767.py:3: DeprecationWarning: loadtxt(): Parsing an integer via a float is deprecated.  To avoid this warning, you can:\n",
      "    * make sure the original data is stored as integers.\n",
      "    * use the `converters=` keyword argument.  If you only use\n",
      "      NumPy 1.23 or later, `converters=float` will normally work.\n",
      "    * Use `np.loadtxt(...).astype(np.int64)` parsing the file as\n",
      "      floating point and then convert it.  (On all NumPy versions.)\n",
      "  (Deprecated NumPy 1.23)\n",
      "  pedro = np.loadtxt('col_pedro.txt', delimiter=',', dtype='i')\n"
     ]
    },
    {
     "data": {
      "text/plain": [
       "array([[  2,   4],\n",
       "       [  4,   1],\n",
       "       [  6,   9],\n",
       "       [  7,   4],\n",
       "       [  9,  10],\n",
       "       [ 10,  10],\n",
       "       [ 11,  10],\n",
       "       [ 13,  10],\n",
       "       [ 14,  19],\n",
       "       [ 15,   5],\n",
       "       [ 18,  16],\n",
       "       [ 19,  14],\n",
       "       [ 20,  13],\n",
       "       [ 22,  17],\n",
       "       [ 23,   9],\n",
       "       [ 24,  15],\n",
       "       [ 26,  14],\n",
       "       [ 27,  11],\n",
       "       [ 28,  10],\n",
       "       [ 29,  17],\n",
       "       [ 31,   1],\n",
       "       [ 32,   9],\n",
       "       [ 35,  18],\n",
       "       [ 36,   1],\n",
       "       [ 39,  10],\n",
       "       [ 40,  12],\n",
       "       [ 42,  12],\n",
       "       [ 43,  14],\n",
       "       [ 44,   6],\n",
       "       [ 47,   6],\n",
       "       [ 49,   4],\n",
       "       [ 50,  11],\n",
       "       [ 51,  13],\n",
       "       [ 53,  16],\n",
       "       [ 54,   9],\n",
       "       [ 56,  10],\n",
       "       [ 58,  16],\n",
       "       [ 59,  14],\n",
       "       [ 60,  14],\n",
       "       [ 61,  16],\n",
       "       [ 63,   3],\n",
       "       [ 64,   5],\n",
       "       [ 65,   5],\n",
       "       [ 68,  11],\n",
       "       [ 71,  18],\n",
       "       [ 73,   8],\n",
       "       [ 74,  11],\n",
       "       [ 77,  13],\n",
       "       [ 78,  13],\n",
       "       [ 79,  16],\n",
       "       [ 80,   3],\n",
       "       [ 83,  10],\n",
       "       [ 84,  13],\n",
       "       [ 85,  12],\n",
       "       [ 86,  17],\n",
       "       [ 87,  18],\n",
       "       [ 88,  18],\n",
       "       [ 89,  12],\n",
       "       [ 90,   8],\n",
       "       [ 93,  15],\n",
       "       [ 94,  14],\n",
       "       [ 95,  14],\n",
       "       [ 97,  17],\n",
       "       [ 98,  14],\n",
       "       [ 99,  11],\n",
       "       [101,  19],\n",
       "       [102,  19],\n",
       "       [103,   2],\n",
       "       [104,  10],\n",
       "       [109,  11],\n",
       "       [112,  14],\n",
       "       [115,  13],\n",
       "       [117,   1],\n",
       "       [118,   4],\n",
       "       [120,  16],\n",
       "       [121,   3],\n",
       "       [123,  14],\n",
       "       [126,   4],\n",
       "       [128,   7],\n",
       "       [130,   8],\n",
       "       [131,  17],\n",
       "       [134,  18],\n",
       "       [135,   9],\n",
       "       [136,   3],\n",
       "       [141,   4],\n",
       "       [143,  15],\n",
       "       [145,  17],\n",
       "       [147,   8],\n",
       "       [149,  12],\n",
       "       [150,   3],\n",
       "       [152,   5],\n",
       "       [153,   7],\n",
       "       [156,   4],\n",
       "       [157,  15],\n",
       "       [160,   8],\n",
       "       [161,   7],\n",
       "       [162,   4],\n",
       "       [163,  13],\n",
       "       [164,  15],\n",
       "       [165,   7],\n",
       "       [166,   5],\n",
       "       [167,  15],\n",
       "       [168,   4],\n",
       "       [169,  18],\n",
       "       [170,   7],\n",
       "       [171,  11],\n",
       "       [172,  18],\n",
       "       [174,  17],\n",
       "       [175,  10],\n",
       "       [177,  19],\n",
       "       [178,  14],\n",
       "       [179,   6],\n",
       "       [182,   4],\n",
       "       [183,  15],\n",
       "       [187,   8],\n",
       "       [188,  14],\n",
       "       [189,  14],\n",
       "       [191,   5],\n",
       "       [192,  11],\n",
       "       [193,  11],\n",
       "       [195,  12],\n",
       "       [196,   1],\n",
       "       [197,   3],\n",
       "       [198,  19]], dtype=int32)"
      ]
     },
     "execution_count": 10,
     "metadata": {},
     "output_type": "execute_result"
    }
   ],
   "source": [
    "import numpy as np\n",
    "juan = np.loadtxt('col_juan.txt',delimiter=',',dtype='i')\n",
    "pedro = np.loadtxt('col_pedro.txt', delimiter=',', dtype='i')\n",
    "\n",
    "pedro"
   ]
  },
  {
   "cell_type": "code",
   "execution_count": 12,
   "id": "77b90baa",
   "metadata": {},
   "outputs": [
    {
     "name": "stdout",
     "output_type": "stream",
     "text": [
      "68\n",
      "124\n"
     ]
    },
    {
     "name": "stderr",
     "output_type": "stream",
     "text": [
      "C:\\Users\\Medac\\AppData\\Local\\Temp\\ipykernel_5020\\1037159303.py:1: DeprecationWarning: loadtxt(): Parsing an integer via a float is deprecated.  To avoid this warning, you can:\n",
      "    * make sure the original data is stored as integers.\n",
      "    * use the `converters=` keyword argument.  If you only use\n",
      "      NumPy 1.23 or later, `converters=float` will normally work.\n",
      "    * Use `np.loadtxt(...).astype(np.int64)` parsing the file as\n",
      "      floating point and then convert it.  (On all NumPy versions.)\n",
      "  (Deprecated NumPy 1.23)\n",
      "  cromosDiferentesJuan = np.loadtxt('col_juan.txt', delimiter=',',usecols=[0], dtype=\"i\")\n",
      "C:\\Users\\Medac\\AppData\\Local\\Temp\\ipykernel_5020\\1037159303.py:2: DeprecationWarning: loadtxt(): Parsing an integer via a float is deprecated.  To avoid this warning, you can:\n",
      "    * make sure the original data is stored as integers.\n",
      "    * use the `converters=` keyword argument.  If you only use\n",
      "      NumPy 1.23 or later, `converters=float` will normally work.\n",
      "    * Use `np.loadtxt(...).astype(np.int64)` parsing the file as\n",
      "      floating point and then convert it.  (On all NumPy versions.)\n",
      "  (Deprecated NumPy 1.23)\n",
      "  cromosDiferentesPedro = np.loadtxt('col_pedro.txt', delimiter=',',usecols=[0], dtype=\"i\")\n"
     ]
    }
   ],
   "source": [
    "cromosDiferentesJuan = np.loadtxt('col_juan.txt', delimiter=',',usecols=[0], dtype=\"i\")\n",
    "cromosDiferentesPedro = np.loadtxt('col_pedro.txt', delimiter=',',usecols=[0], dtype=\"i\")\n",
    "print(len(cromosDiferentesJuan))\n",
    "print(len(cromosDiferentesPedro))"
   ]
  },
  {
   "cell_type": "code",
   "execution_count": 16,
   "id": "15c76615",
   "metadata": {},
   "outputs": [
    {
     "name": "stdout",
     "output_type": "stream",
     "text": [
      "619\n",
      "1326\n"
     ]
    },
    {
     "name": "stderr",
     "output_type": "stream",
     "text": [
      "C:\\Users\\Medac\\AppData\\Local\\Temp\\ipykernel_5020\\3131946140.py:1: DeprecationWarning: loadtxt(): Parsing an integer via a float is deprecated.  To avoid this warning, you can:\n",
      "    * make sure the original data is stored as integers.\n",
      "    * use the `converters=` keyword argument.  If you only use\n",
      "      NumPy 1.23 or later, `converters=float` will normally work.\n",
      "    * Use `np.loadtxt(...).astype(np.int64)` parsing the file as\n",
      "      floating point and then convert it.  (On all NumPy versions.)\n",
      "  (Deprecated NumPy 1.23)\n",
      "  cromosTotalesJuan = np.loadtxt('col_juan.txt', delimiter=',',usecols=[1], dtype=\"i\")\n",
      "C:\\Users\\Medac\\AppData\\Local\\Temp\\ipykernel_5020\\3131946140.py:2: DeprecationWarning: loadtxt(): Parsing an integer via a float is deprecated.  To avoid this warning, you can:\n",
      "    * make sure the original data is stored as integers.\n",
      "    * use the `converters=` keyword argument.  If you only use\n",
      "      NumPy 1.23 or later, `converters=float` will normally work.\n",
      "    * Use `np.loadtxt(...).astype(np.int64)` parsing the file as\n",
      "      floating point and then convert it.  (On all NumPy versions.)\n",
      "  (Deprecated NumPy 1.23)\n",
      "  cromosTotalesPedro = np.loadtxt('col_pedro.txt', delimiter=',',usecols=[1], dtype=\"i\")\n"
     ]
    }
   ],
   "source": [
    "cromosTotalesJuan = np.loadtxt('col_juan.txt', delimiter=',',usecols=[1], dtype=\"i\")\n",
    "cromosTotalesPedro = np.loadtxt('col_pedro.txt', delimiter=',',usecols=[1], dtype=\"i\")\n",
    "print(np.sum(cromosTotalesJuan))\n",
    "print(np.sum(cromosTotalesPedro))"
   ]
  },
  {
   "cell_type": "code",
   "execution_count": 22,
   "id": "4bb14e14",
   "metadata": {},
   "outputs": [
    {
     "name": "stdout",
     "output_type": "stream",
     "text": [
      "44\n"
     ]
    },
    {
     "name": "stderr",
     "output_type": "stream",
     "text": [
      "C:\\Users\\Medac\\AppData\\Local\\Temp\\ipykernel_5020\\3743668547.py:1: DeprecationWarning: loadtxt(): Parsing an integer via a float is deprecated.  To avoid this warning, you can:\n",
      "    * make sure the original data is stored as integers.\n",
      "    * use the `converters=` keyword argument.  If you only use\n",
      "      NumPy 1.23 or later, `converters=float` will normally work.\n",
      "    * Use `np.loadtxt(...).astype(np.int64)` parsing the file as\n",
      "      floating point and then convert it.  (On all NumPy versions.)\n",
      "  (Deprecated NumPy 1.23)\n",
      "  cromosDiferentesJuan = np.loadtxt('col_juan.txt', delimiter=',',usecols=[0], dtype=\"i\")\n",
      "C:\\Users\\Medac\\AppData\\Local\\Temp\\ipykernel_5020\\3743668547.py:2: DeprecationWarning: loadtxt(): Parsing an integer via a float is deprecated.  To avoid this warning, you can:\n",
      "    * make sure the original data is stored as integers.\n",
      "    * use the `converters=` keyword argument.  If you only use\n",
      "      NumPy 1.23 or later, `converters=float` will normally work.\n",
      "    * Use `np.loadtxt(...).astype(np.int64)` parsing the file as\n",
      "      floating point and then convert it.  (On all NumPy versions.)\n",
      "  (Deprecated NumPy 1.23)\n",
      "  cromosDiferentesPedro = np.loadtxt('col_pedro.txt', delimiter=',',usecols=[0], dtype=\"i\")\n"
     ]
    }
   ],
   "source": [
    "cromosDiferentesJuan = np.loadtxt('col_juan.txt', delimiter=',',usecols=[0], dtype=\"i\")\n",
    "cromosDiferentesPedro = np.loadtxt('col_pedro.txt', delimiter=',',usecols=[0], dtype=\"i\")\n",
    "cromosIguales = np.intersect1d(cromosDiferentesJuan, cromosDiferentesPedro);\n",
    "print(cromosIguales.size)"
   ]
  },
  {
   "cell_type": "code",
   "execution_count": 24,
   "id": "423cc7b9",
   "metadata": {},
   "outputs": [
    {
     "name": "stdout",
     "output_type": "stream",
     "text": [
      "148\n"
     ]
    }
   ],
   "source": [
    "coleccion = np.union1d(cromosDiferentesJuan, cromosDiferentesPedro)\n",
    "print(coleccion.size)"
   ]
  },
  {
   "cell_type": "code",
   "execution_count": 28,
   "id": "1fdb7587",
   "metadata": {},
   "outputs": [
    {
     "data": {
      "text/plain": [
       "array([  1,   3,  12,  16,  17,  21,  30,  34,  38,  45,  46,  48,  52,\n",
       "        55,  66,  69,  72,  75,  76,  81,  82,  91,  92,  96, 100, 106,\n",
       "       107, 113, 114, 119, 122, 124, 125, 129, 138, 139, 140, 146, 151,\n",
       "       154, 155, 173, 176, 180, 181, 184, 185, 186, 190, 194, 199, 200])"
      ]
     },
     "execution_count": 28,
     "metadata": {},
     "output_type": "execute_result"
    }
   ],
   "source": [
    "coleccionCompleta = np.arange(1,201)\n",
    "cromosFaltan = np.in1d(coleccionCompleta, coleccion, invert=True);\n",
    "coleccionCompleta[cromosFaltan]"
   ]
  },
  {
   "cell_type": "code",
   "execution_count": 5,
   "id": "1499b2df",
   "metadata": {},
   "outputs": [
    {
     "name": "stdout",
     "output_type": "stream",
     "text": [
      "18\n"
     ]
    }
   ],
   "source": [
    "contador = 0\n",
    "for i in range(0,20):\n",
    "    if i !=10:\n",
    "        contador = contador + 1\n",
    "    elif i >= 10: \n",
    "        contador = contador - 1\n",
    "print(contador)\n"
   ]
  },
  {
   "cell_type": "code",
   "execution_count": 6,
   "id": "5222ddc1",
   "metadata": {},
   "outputs": [
    {
     "ename": "SyntaxError",
     "evalue": "invalid decimal literal (2276566901.py, line 1)",
     "output_type": "error",
     "traceback": [
      "\u001b[1;36m  Cell \u001b[1;32mIn[6], line 1\u001b[1;36m\u001b[0m\n\u001b[1;33m    print(\"*\"*10contador)\u001b[0m\n\u001b[1;37m               ^\u001b[0m\n\u001b[1;31mSyntaxError\u001b[0m\u001b[1;31m:\u001b[0m invalid decimal literal\n"
     ]
    }
   ],
   "source": [
    "print(\"*\"*10contador)"
   ]
  },
  {
   "cell_type": "code",
   "execution_count": 22,
   "id": "7138a6bb",
   "metadata": {},
   "outputs": [
    {
     "name": "stdout",
     "output_type": "stream",
     "text": [
      "\n",
      "*\n",
      "**\n",
      "***\n",
      "****\n",
      "*****\n",
      "******\n",
      "*******\n",
      "********\n",
      "*********\n",
      "**********\n",
      "+++++++++++\n",
      "**********\n",
      "*********\n",
      "********\n",
      "*******\n",
      "******\n",
      "*****\n",
      "****\n",
      "***\n",
      "**\n",
      "*\n",
      "\n",
      "\n",
      "\n",
      "\n",
      "\n",
      "\n",
      "\n",
      "\n",
      "\n",
      "\n",
      "\n",
      "\n",
      "\n",
      "\n",
      "\n",
      "\n",
      "\n",
      "\n",
      "\n"
     ]
    }
   ],
   "source": [
    "contador = 0\n",
    "for i in range(0,20):\n",
    "    print(\"*\"*contador)\n",
    "    if i !=10:\n",
    "        contador = contador + 1\n",
    "    if i == 10:\n",
    "        print(\"+\"*(contador+1))\n",
    "        for i in range(0,20):\n",
    "            contador = contador -1\n",
    "            print(\"*\"*(contador+1))"
   ]
  },
  {
   "cell_type": "code",
   "execution_count": 27,
   "id": "1f7c70ed",
   "metadata": {},
   "outputs": [
    {
     "name": "stdout",
     "output_type": "stream",
     "text": [
      "\n",
      "*\n",
      "**\n",
      "***\n",
      "****\n",
      "*****\n",
      "******\n",
      "*******\n",
      "********\n",
      "*********\n",
      "**********\n",
      "***********\n",
      "************\n",
      "*************\n",
      "**************\n",
      "***************\n",
      "++++++++++++++++\n",
      "***************\n",
      "**************\n",
      "*************\n",
      "************\n",
      "***********\n",
      "**********\n",
      "*********\n",
      "********\n",
      "*******\n",
      "******\n",
      "*****\n",
      "****\n",
      "***\n",
      "**\n",
      "*\n",
      "\n",
      "\n",
      "\n",
      "\n",
      "\n",
      "\n",
      "\n",
      "\n",
      "\n"
     ]
    }
   ],
   "source": [
    "contador = 0\n",
    "for i in range(0,20):\n",
    "    print(\"*\"*contador)\n",
    "    if i !=15:\n",
    "        contador = contador + 1\n",
    "    if i == 15:\n",
    "        print(\"+\"*(contador+1))\n",
    "        for i in range(0,20):\n",
    "            contador = contador -1\n",
    "            print(\"*\"*(contador+1))"
   ]
  },
  {
   "cell_type": "code",
   "execution_count": 1,
   "id": "82f72d39",
   "metadata": {},
   "outputs": [
    {
     "name": "stdout",
     "output_type": "stream",
     "text": [
      "Ingrese un valor100\n"
     ]
    }
   ],
   "source": [
    " x = float(input(\"Ingrese un valor\"))"
   ]
  },
  {
   "cell_type": "code",
   "execution_count": 1,
   "id": "0bd4c706",
   "metadata": {},
   "outputs": [
    {
     "name": "stdout",
     "output_type": "stream",
     "text": [
      "Ingrese el coste de la cena10\n",
      "Ingrese el porcentaje de propina a dejar2\n",
      "El coste de la cena es de  10.0\n",
      "La propina a dejar es de  2.0\n",
      "El monto total es de 12.0\n"
     ]
    }
   ],
   "source": [
    "cena = float(input(\"Ingrese el coste de la cena\"))\n",
    "propina = float(input(\"Ingrese el porcentaje de propina a dejar\"))\n",
    "total = cena + propina\n",
    "def calcular_propina(cena,propina):\n",
    "    propina = cena * propina /100\n",
    "    return propina\n",
    "def calcular_total(cena,propina):\n",
    "    total = cena + propina\n",
    "    return total\n",
    "print(\"El coste de la cena es de \",cena)\n",
    "print(\"La propina a dejar es de \",propina)\n",
    "print(\"El monto total es de\",total)"
   ]
  },
  {
   "cell_type": "code",
   "execution_count": 13,
   "id": "59ca2042",
   "metadata": {},
   "outputs": [
    {
     "name": "stdout",
     "output_type": "stream",
     "text": [
      "Ingrese el valor del objeto10\n",
      "Ingrese los costes de envio5\n",
      "Ingrese el valor de la facturación1\n"
     ]
    },
    {
     "ename": "NameError",
     "evalue": "name 'coste_envio' is not defined",
     "output_type": "error",
     "traceback": [
      "\u001b[1;31m---------------------------------------------------------------------------\u001b[0m",
      "\u001b[1;31mNameError\u001b[0m                                 Traceback (most recent call last)",
      "Cell \u001b[1;32mIn[13], line 4\u001b[0m\n\u001b[0;32m      2\u001b[0m costes_envio \u001b[38;5;241m=\u001b[39m \u001b[38;5;28mfloat\u001b[39m(\u001b[38;5;28minput\u001b[39m(\u001b[38;5;124m\"\u001b[39m\u001b[38;5;124mIngrese los costes de envio\u001b[39m\u001b[38;5;124m\"\u001b[39m))\n\u001b[0;32m      3\u001b[0m costes_facturacion \u001b[38;5;241m=\u001b[39m \u001b[38;5;28mfloat\u001b[39m(\u001b[38;5;28minput\u001b[39m(\u001b[38;5;124m\"\u001b[39m\u001b[38;5;124mIngrese el valor de la facturación\u001b[39m\u001b[38;5;124m\"\u001b[39m))\n\u001b[1;32m----> 4\u001b[0m total \u001b[38;5;241m=\u001b[39m coste_objeto \u001b[38;5;241m+\u001b[39m \u001b[43mcoste_envio\u001b[49m \u001b[38;5;241m+\u001b[39m coste_facturacion\n\u001b[0;32m      5\u001b[0m \u001b[38;5;28;01mdef\u001b[39;00m \u001b[38;5;21mcalcular_costes\u001b[39m(coste_objeto,costes_envio,costes_facturación):\n\u001b[0;32m      6\u001b[0m     total \u001b[38;5;241m=\u001b[39m coste_objeto \u001b[38;5;241m+\u001b[39m costes_envio \u001b[38;5;241m+\u001b[39m costes_facturación\n",
      "\u001b[1;31mNameError\u001b[0m: name 'coste_envio' is not defined"
     ]
    }
   ],
   "source": [
    "coste_objeto = float(input(\"Ingrese el valor del objeto\"))\n",
    "costes_envio = float(input(\"Ingrese los costes de envio\"))\n",
    "costes_facturacion = float(input(\"Ingrese el valor de la facturación\"))\n",
    "total = coste_objeto + coste_envio + coste_facturacion\n",
    "def calcular_costes(coste_objeto,costes_envio,costes_facturación):\n",
    "    total = coste_objeto + costes_envio + costes_facturación\n",
    "    return total\n",
    "print(\"El coste toal es de \",total)"
   ]
  },
  {
   "cell_type": "code",
   "execution_count": 14,
   "id": "ba2de4ae",
   "metadata": {},
   "outputs": [
    {
     "name": "stdout",
     "output_type": "stream",
     "text": [
      "Ingresa el precio de los productos: 10\n",
      "Ingresa la tasa de impuestos a pagar:2\n",
      "Ingresa los cargos de envio de los productos: 1\n",
      "El precio total de la compra es:  13.0\n",
      "La cantidad de impuestos a pagar es:  0.26\n"
     ]
    }
   ],
   "source": [
    "precio_producto = float(input(\"Ingresa el precio de los productos: \"))\n",
    "tasa_impuesto = float(input(\"Ingresa la tasa de impuestos a pagar:\"))\n",
    "cargos = float(input(\"Ingresa los cargos de envio de los productos: \"))\n",
    "precio_total = precio_producto + tasa_impuesto + cargos\n",
    "impuestos = precio_total*tasa_impuesto/100\n",
    "def calcular_precio_total(precio_total, precio_producto, tasa_impuesto, cargos):\n",
    "    precio_total = precio_producto + tasa_impuesto + cargos\n",
    "    return precio_total\n",
    "def calcular_impuesto(impuesto, precio_total, tasa_impuesto, impuestos):\n",
    "    impuestos = precio_total*tasa_impuesto/100\n",
    "    return impuestos\n",
    "\n",
    "print(\"El precio total de la compra es: \",precio_total)\n",
    "print(\"La cantidad de impuestos a pagar es: \",impuestos)"
   ]
  },
  {
   "cell_type": "code",
   "execution_count": null,
   "id": "c4ed48b1",
   "metadata": {},
   "outputs": [],
   "source": []
  }
 ],
 "metadata": {
  "kernelspec": {
   "display_name": "Python 3 (ipykernel)",
   "language": "python",
   "name": "python3"
  },
  "language_info": {
   "codemirror_mode": {
    "name": "ipython",
    "version": 3
   },
   "file_extension": ".py",
   "mimetype": "text/x-python",
   "name": "python",
   "nbconvert_exporter": "python",
   "pygments_lexer": "ipython3",
   "version": "3.10.9"
  }
 },
 "nbformat": 4,
 "nbformat_minor": 5
}
